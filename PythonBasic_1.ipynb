{
 "cells": [
  {
   "cell_type": "code",
   "execution_count": 1,
   "id": "510f65bb",
   "metadata": {},
   "outputs": [
    {
     "name": "stdout",
     "output_type": "stream",
     "text": [
      "Python keywords: \n",
      "False, None, True, and, as, assert, async, await, break, class, continue, def, del, elif, else, except, finally, for, from, global, if, import, in, is, lambda, nonlocal, not, or, pass, raise, return, try, while, with, yield\n"
     ]
    }
   ],
   "source": [
    "#1. What are keywords in python? Using the keyword library, print all the python keywords.\n",
    "\n",
    "\"\"\"keywords are reserved words that have a specific meaning and cannot be used as identifiers. \n",
    "Python has a set of built-in keywords that are used to define the syntax and structure of the language. \"\"\"\n",
    "\n",
    "import keyword\n",
    "\n",
    "keywords=keyword.kwlist\n",
    "print(\"Python keywords: \")\n",
    "print(\", \".join(keywords))"
   ]
  },
  {
   "cell_type": "raw",
   "id": "407d7a00",
   "metadata": {},
   "source": [
    "2. What are the rules to create variables in python?\n",
    "\n",
    "In python, variables are used to store and represent data.\n",
    "\n",
    "(i). Variable names cannot start with the number but they can have numbers after the first character\n",
    "(ii). Special charcacters(#,$,*,@) are not allowed in variables names\n",
    "(iii). Avoid using Reserved keywords as variable names. Keyowrds have a special meaning in Python\n",
    "(iv). Variables cannot contain spaces. Either use underscore(_) or camelCase to repreesent spaces\n",
    "(v). Naming Rules:\n",
    "                 Variable names must start with a letter (a-z, A-Z) or an underscore (_). The remaining characters in the variable name can be letters, numbers, or underscores."
   ]
  },
  {
   "cell_type": "raw",
   "id": "9f17504d",
   "metadata": {},
   "source": [
    "3. What are the standards and conventions followed for the nomenclature of variables in python to improve code readability and maintainability?\n",
    "\n",
    "\n",
    "In Python, naming standards and conventions is essential for writing clean, readable, and maintainable code. While Python doesn't enforce strict rules, the PEP 8 style guide provides recommendations that are widely followed in the Python community.\n",
    "\n",
    "(i). Variable Names\n",
    "(ii). Constants\n",
    "(iii). Function and Method names\n",
    "(iv). private and protected names\n",
    "(v). Class names\n",
    "(vi). Packages\n",
    "(vii). Module names\n"
   ]
  },
  {
   "cell_type": "raw",
   "id": "3bd332f1",
   "metadata": {},
   "source": [
    "4. What will happen if a keyword is used as a variable name?\n",
    "\n",
    "If a keyword is used as a variable name in Python, it will result in a syntax error. Keywords in Python have specific meanings and are reserved for language constructs. They cannot be used as identifiers. "
   ]
  },
  {
   "cell_type": "raw",
   "id": "2b71f652",
   "metadata": {},
   "source": [
    "5. For what purpose def keyword is used?\n",
    "\n",
    "The def keyword is used to define a function. By using the def keyword, you can create your own functions, which can be called and executed elsewhere in your code."
   ]
  },
  {
   "cell_type": "code",
   "execution_count": 2,
   "id": "dd574dea",
   "metadata": {},
   "outputs": [
    {
     "name": "stdout",
     "output_type": "stream",
     "text": [
      "first line\n",
      "Second line\n",
      "Third line\n"
     ]
    }
   ],
   "source": [
    "#6. What is the operation of this special character ‘\\’?\n",
    "\n",
    "\"\"\"The backslash (\\) is a special character used as an escape character to indicate that the character following it should be treated specially.\n",
    "It can be used to split long statements into multiple lines for better readability. \"\"\"\n",
    "\n",
    "#Example:\n",
    "\n",
    "print(\"first line\\nSecond line\\nThird line\")\n"
   ]
  },
  {
   "cell_type": "code",
   "execution_count": 3,
   "id": "648a459a",
   "metadata": {},
   "outputs": [],
   "source": [
    "#7. Give an example of the following conditions:\n",
    "\n",
    "\"\"\"\n",
    "(i) Homogeneous list: In this list, all elements are of the same type\n",
    "(ii) Heterogeneous set: In heterogeneous set elements can be of different type\n",
    "(iii) Homogeneous tuple: In homogeneous tuple all elements are of the same type\n",
    "\"\"\"\n",
    "l=[1,2,3,4,5] #Homogenous list here it contains only integers\n",
    "s={1,'scoups',True,13.05} #In this set we have different types of elements\n",
    "t=('a','b','c') #here it contains only strings"
   ]
  },
  {
   "cell_type": "raw",
   "id": "7f728a2b",
   "metadata": {},
   "source": [
    "8. Explain the mutable and immutable data types with proper explanation & examples.\n",
    "\n",
    "Mutable Data Types:\n",
    "\n",
    "Mutable data types allow modifications to the values they contain. This means you can change the content or state of the object after it has been created.\n",
    "Examples of mutable data types in Python include lists, dictionaries, and sets.\n",
    "\n",
    "Immutable Data Types:\n",
    "\n",
    "Immutable data types do not allow modifications to the values they contain. Once an object of an immutable type is created, its content cannot be changed.\n",
    "Examples of immutable data types in Python include strings, tuples, and numeric types."
   ]
  },
  {
   "cell_type": "code",
   "execution_count": 4,
   "id": "dc3d0999",
   "metadata": {},
   "outputs": [
    {
     "name": "stdout",
     "output_type": "stream",
     "text": [
      "[1, 10, 3]\n",
      "{'k': 'v1'}\n",
      "{1, 2, 3, 4}\n"
     ]
    }
   ],
   "source": [
    "#8. Example of mutable data type\n",
    "\n",
    "#Mutable List\n",
    "\n",
    "l = [1, 2, 3]\n",
    "l[1] = 10\n",
    "print(l)\n",
    "\n",
    "# Mutable Dictionary\n",
    "\n",
    "d = {'k': 'v'}\n",
    "d['k'] = 'v1'\n",
    "print(d) \n",
    "\n",
    "# Mutable Set\n",
    "\n",
    "s= {1, 2, 3}\n",
    "s.add(4)\n",
    "print(s) "
   ]
  },
  {
   "cell_type": "code",
   "execution_count": 5,
   "id": "03ec49d3",
   "metadata": {},
   "outputs": [
    {
     "ename": "TypeError",
     "evalue": "'tuple' object does not support item assignment",
     "output_type": "error",
     "traceback": [
      "\u001b[1;31m---------------------------------------------------------------------------\u001b[0m",
      "\u001b[1;31mTypeError\u001b[0m                                 Traceback (most recent call last)",
      "Cell \u001b[1;32mIn[5], line 4\u001b[0m\n\u001b[0;32m      1\u001b[0m \u001b[38;5;66;03m#8. Examples of immutable data type\u001b[39;00m\n\u001b[0;32m      3\u001b[0m t\u001b[38;5;241m=\u001b[39m(\u001b[38;5;241m1\u001b[39m,\u001b[38;5;241m2\u001b[39m,\u001b[38;5;241m3\u001b[39m)\n\u001b[1;32m----> 4\u001b[0m t[\u001b[38;5;241m1\u001b[39m]\u001b[38;5;241m=\u001b[39m\u001b[38;5;241m2\u001b[39m\n\u001b[0;32m      5\u001b[0m \u001b[38;5;28mprint\u001b[39m(t)\n",
      "\u001b[1;31mTypeError\u001b[0m: 'tuple' object does not support item assignment"
     ]
    }
   ],
   "source": [
    "#8. Examples of immutable data type\n",
    "\n",
    "t=(1,2,3)\n",
    "t[1]=2\n",
    "print(t)  #here it gives an error"
   ]
  },
  {
   "cell_type": "code",
   "execution_count": 6,
   "id": "c809edee",
   "metadata": {},
   "outputs": [
    {
     "name": "stdout",
     "output_type": "stream",
     "text": [
      "enter the range: 5\n",
      "    *\n",
      "   ***\n",
      "  *****\n",
      " *******\n",
      "*********\n"
     ]
    }
   ],
   "source": [
    "#9. Write a code to create the given structure using only for loop\n",
    "\"\"\" *\n",
    "   ***\n",
    "  *****\n",
    " *******\n",
    "*********\"\"\"\n",
    "\n",
    "\n",
    "n=int(input(\"enter the range: \"))\n",
    "for i in range(n):\n",
    "    for j in range(i,n-1):\n",
    "        print(\" \"*len('*'),end=\"\")\n",
    "    for j in range(i+1):\n",
    "        print(\"*\",end=\"\")\n",
    "    for j in range(i):\n",
    "        print(\"*\",end=\"\")\n",
    "    print()"
   ]
  },
  {
   "cell_type": "code",
   "execution_count": 7,
   "id": "32f78508",
   "metadata": {},
   "outputs": [
    {
     "name": "stdout",
     "output_type": "stream",
     "text": [
      "|||||||||\n",
      " |||||||\n",
      "  |||||\n",
      "   |||\n",
      "    |\n"
     ]
    }
   ],
   "source": [
    "#10. Write a code to create the given structure using while loop.\n",
    "\"\"\"|||||||||\n",
    "    |||||||\n",
    "     |||||\n",
    "      |||\n",
    "       |     \"\"\"\n",
    "\n",
    "r = 5\n",
    "s = r\n",
    "\n",
    "while s>=1:\n",
    "    l=r-s\n",
    "    p=2*s-1\n",
    "\n",
    "    while l>0:\n",
    "        print(\" \", end=\"\")\n",
    "        l -= 1\n",
    "        \n",
    "    while p > 0:\n",
    "        print(\"|\", end=\"\")\n",
    "        p -= 1\n",
    "    print()\n",
    "    s -= 1"
   ]
  }
 ],
 "metadata": {
  "kernelspec": {
   "display_name": "Python 3 (ipykernel)",
   "language": "python",
   "name": "python3"
  },
  "language_info": {
   "codemirror_mode": {
    "name": "ipython",
    "version": 3
   },
   "file_extension": ".py",
   "mimetype": "text/x-python",
   "name": "python",
   "nbconvert_exporter": "python",
   "pygments_lexer": "ipython3",
   "version": "3.11.3"
  }
 },
 "nbformat": 4,
 "nbformat_minor": 5
}
